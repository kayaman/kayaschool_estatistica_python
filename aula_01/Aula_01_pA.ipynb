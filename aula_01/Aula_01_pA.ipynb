{
 "cells": [
  {
   "cell_type": "markdown",
   "metadata": {},
   "source": [
    "# Arredondamento de dados"
   ]
  },
  {
   "cell_type": "markdown",
   "metadata": {},
   "source": [
    "Seguindo a resolução número _866/66_ da **Fundação IBGE**, temos:"
   ]
  },
  {
   "cell_type": "markdown",
   "metadata": {},
   "source": [
    "## 1. Arredondamento por falta"
   ]
  },
  {
   "cell_type": "markdown",
   "metadata": {},
   "source": [
    "*Quando o primeiro dígito dos quais serão eliminados for* **menor que 5**"
   ]
  },
  {
   "cell_type": "markdown",
   "metadata": {},
   "source": [
    "<table>\n",
    "    <caption style=\"caption-side: bottom;\">Tabela 1. Exemplos de arredondamento por falta</caption>\n",
    "    <thead>\n",
    "        <tr>\n",
    "            <th></th><th>Número dado</th><th>Arredondar como</th><th>Resultado</th>\n",
    "        </tr>\n",
    "    </thead>\n",
    "    <tbody>\n",
    "        <tr>\n",
    "            <td>a)</td><td>1<b style=\"font-size: 1.1em\">1</b>.372</td><td>inteiro</td><td>11</td>\n",
    "        </tr>\n",
    "        <tr>\n",
    "            <td>b)</td><td>46.<b style=\"font-size: 1.1em\">8</b>17</td><td>décimos</td><td>46.8</td>\n",
    "        </tr>\n",
    "        <tr>\n",
    "            <td>c)</td><td>261.7<b style=\"font-size: 1.1em\">6</b>1</td><td>centésimos</td><td>261.76</td>\n",
    "        </tr>\n",
    "    </tbody>\n",
    "</table>"
   ]
  },
  {
   "cell_type": "markdown",
   "metadata": {},
   "source": [
    "## 2. Arredondamento por excesso"
   ]
  },
  {
   "cell_type": "markdown",
   "metadata": {},
   "source": [
    "*Quando o primeiro dígito dos que serão ser eliminados for* **maior ou igual a 5**"
   ]
  },
  {
   "cell_type": "markdown",
   "metadata": {},
   "source": [
    "<table>\n",
    "    <caption style=\"caption-side: bottom;\">Tabela 2. Exemplos de arredondamento por excesso</caption>\n",
    "    <thead>\n",
    "        <tr>\n",
    "            <th></th><th>Número dado</th><th>Arredondar como</th><th>Resultado</th>\n",
    "        </tr>\n",
    "    </thead>\n",
    "    <tbody>\n",
    "        <tr>\n",
    "            <td>a)</td><td>32.<b style=\"font-size: 1.1em\">8</b>27</td><td>inteiro</td><td>33</td>\n",
    "        </tr>\n",
    "        <tr>\n",
    "            <td>b)</td><td>16.<b style=\"font-size: 1.1em\">7</b>63</td><td>décimos</td><td>16.8</td>\n",
    "        </tr>\n",
    "        <tr>\n",
    "            <td>c)</td><td>23.4<b style=\"font-size: 1.1em\">2</b>502</td><td>centésimos</td><td>23.43</td>\n",
    "        </tr>\n",
    "    </tbody>\n",
    "</table>"
   ]
  },
  {
   "cell_type": "markdown",
   "metadata": {},
   "source": [
    "## 3. Caso particular"
   ]
  },
  {
   "cell_type": "markdown",
   "metadata": {},
   "source": [
    "Números terminados em __5__ com necessidade de arredontamento no dígito **imediatamente anterior** ao mesmo:"
   ]
  },
  {
   "cell_type": "markdown",
   "metadata": {},
   "source": [
    "1. Não alterar o valor do dígito se ele for **PAR**.\n",
    "2. Aumentar em uma unidade se ele for **ÍMPAR**."
   ]
  },
  {
   "cell_type": "markdown",
   "metadata": {},
   "source": [
    "<table>\n",
    "    <caption style=\"caption-side: bottom; font-size: 0.85em\">Tabela 3. Exemplos de arredondamento de números terminados em 5.</caption>\n",
    "    <thead>\n",
    "        <tr>\n",
    "            <th></th><th>Número dado</th><th>Resultado</th>\n",
    "        </tr>\n",
    "    </thead>\n",
    "    <tbody>\n",
    "        <tr>\n",
    "            <td>a)</td><td>73.3<b style=\"font-size: 1.1em\">6</b>5</td><td>73.36</td>\n",
    "        </tr>\n",
    "        <tr>\n",
    "            <td>b)</td><td>41.7<b style=\"font-size: 1.1em\">4</b>5</td><td>41.74</td>\n",
    "        </tr>\n",
    "        <tr>\n",
    "            <td>c)</td><td>61.1<b style=\"font-size: 1.1em\">3</b>5</td><td>61.14</td>\n",
    "        </tr>\n",
    "    </tbody>\n",
    "</table>"
   ]
  },
  {
   "cell_type": "markdown",
   "metadata": {},
   "source": [
    "### **Atenção**: nunca realizar arredondamentos sucessivos."
   ]
  },
  {
   "cell_type": "markdown",
   "metadata": {},
   "source": [
    "*Exemplo:* arredondar 21.74631 para décimos:\n",
    "\n",
    "- Arredondamentos sucessivos: 21.74<b style=\"font-size: 1.1em\">6</b>31 => 21.7<b style=\"font-size: 1.1em\">5</b> => 21.<b style=\"font-size: 1.1em\">8</b>\n",
    "- Arredondamentos décimos direto: 21.7<b style=\"font-size: 1.1em\">4</b>631 => 21.<b style=\"font-size: 1.1em\">7</b>\n",
    "\n",
    "\n"
   ]
  }
 ],
 "metadata": {
  "kernelspec": {
   "display_name": "Python 3",
   "language": "python",
   "name": "python3"
  },
  "language_info": {
   "codemirror_mode": {
    "name": "ipython",
    "version": 3
   },
   "file_extension": ".py",
   "mimetype": "text/x-python",
   "name": "python",
   "nbconvert_exporter": "python",
   "pygments_lexer": "ipython3",
   "version": "3.7.1"
  }
 },
 "nbformat": 4,
 "nbformat_minor": 2
}
