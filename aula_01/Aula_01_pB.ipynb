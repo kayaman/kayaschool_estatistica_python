{
 "cells": [
  {
   "cell_type": "markdown",
   "metadata": {},
   "source": [
    "# Agora.. com Python!"
   ]
  },
  {
   "cell_type": "markdown",
   "metadata": {},
   "source": [
    "## Arredondamento de dados"
   ]
  },
  {
   "cell_type": "markdown",
   "metadata": {},
   "source": [
    "Em **Python** temos grandes poderes e liberdade para manipulação de dados numéricos. Grandes poderes exigem grandes responsabilidades! :-)\n",
    "\n",
    "Para realizar arredontamentos numéricos como os que acabamos de discutir, não é necessário utilizar uma biblioteca científica específica como as que estudaremos ao longo do curso. Na versão atual existe uma função *nativa* chamada `round()`.\n",
    "\n",
    "Não por acaso, a função `round()` segue a mesma lógica que vimos na resolução da *Fundação IBGE*. No entanto, antes de utilizá-la em nossos dados de exemplo. Vamos conferir a documentação, lembre-se sempre: **responsabilidade!**"
   ]
  },
  {
   "cell_type": "markdown",
   "metadata": {},
   "source": [
    "[Documentação oficial](https://docs.python.org/3/library/functions.html#round)"
   ]
  },
  {
   "cell_type": "markdown",
   "metadata": {},
   "source": [
    "`round(number[, ndigits])`"
   ]
  },
  {
   "cell_type": "code",
   "execution_count": 15,
   "metadata": {},
   "outputs": [
    {
     "name": "stdout",
     "output_type": "stream",
     "text": [
      "12346\n"
     ]
    }
   ],
   "source": [
    "n = 12345.67890\n",
    "print(round(n))"
   ]
  },
  {
   "cell_type": "code",
   "execution_count": 16,
   "metadata": {},
   "outputs": [
    {
     "name": "stdout",
     "output_type": "stream",
     "text": [
      "12346.0\n"
     ]
    }
   ],
   "source": [
    "n = 12345.67890\n",
    "digits = 0\n",
    "print(round(n, ndigits=digits))"
   ]
  },
  {
   "cell_type": "code",
   "execution_count": 17,
   "metadata": {},
   "outputs": [
    {
     "name": "stdout",
     "output_type": "stream",
     "text": [
      "12346\n"
     ]
    }
   ],
   "source": [
    "n = 12345.67890\n",
    "digits = 0\n",
    "print(round(n, ndigits=None))"
   ]
  },
  {
   "cell_type": "code",
   "execution_count": 18,
   "metadata": {},
   "outputs": [
    {
     "name": "stdout",
     "output_type": "stream",
     "text": [
      "12345.7\n"
     ]
    }
   ],
   "source": [
    "n = 12345.67890\n",
    "digits = 0\n",
    "print(round(n, ndigits=1))"
   ]
  },
  {
   "cell_type": "code",
   "execution_count": 19,
   "metadata": {},
   "outputs": [
    {
     "name": "stdout",
     "output_type": "stream",
     "text": [
      "12345.7\n"
     ]
    }
   ],
   "source": [
    "print(round(n, 1))"
   ]
  },
  {
   "cell_type": "markdown",
   "metadata": {},
   "source": [
    "## 1. Arredondamento por falta"
   ]
  },
  {
   "cell_type": "markdown",
   "metadata": {},
   "source": [
    "*Quando o primeiro dígito dos quais serão eliminados for* **menor que 5**"
   ]
  },
  {
   "cell_type": "markdown",
   "metadata": {},
   "source": [
    "\n",
    "\n",
    "<table>\n",
    "    <caption>Tabela 1. Exemplos de arredondamento por falta</caption>\n",
    "    <thead>\n",
    "        <tr>\n",
    "            <th></th><th>Número dado</th><th>Arredondar como</th><th>Resultado</th>\n",
    "        </tr>\n",
    "    </thead>\n",
    "    <tbody>\n",
    "        <tr>\n",
    "            <td>a)</td><td>1<em style=\"text-decoration: underline\">1</em>.372</td><td>inteiro</td><td>11</td>\n",
    "        </tr>\n",
    "        <tr>\n",
    "            <td>b)</td><td>46.<em style=\"text-decoration: underline\">8</em>17</td><td>décimos</td><td>46.8</td>\n",
    "        </tr>\n",
    "        <tr>\n",
    "            <td>c)</td><td>261.<em style=\"text-decoration: underline\">7</em>61</td><td>centésimos</td><td>261.76</td>\n",
    "        </tr>\n",
    "    </tbody>\n",
    "</table>"
   ]
  },
  {
   "cell_type": "code",
   "execution_count": 1,
   "metadata": {},
   "outputs": [
    {
     "data": {
      "text/plain": [
       "11"
      ]
     },
     "execution_count": 1,
     "metadata": {},
     "output_type": "execute_result"
    }
   ],
   "source": [
    "a1 = 11.372\n",
    "round(a1)"
   ]
  },
  {
   "cell_type": "code",
   "execution_count": 2,
   "metadata": {},
   "outputs": [
    {
     "data": {
      "text/plain": [
       "46.8"
      ]
     },
     "execution_count": 2,
     "metadata": {},
     "output_type": "execute_result"
    }
   ],
   "source": [
    "a2 = 46.817\n",
    "round(a2, 1)"
   ]
  },
  {
   "cell_type": "code",
   "execution_count": 3,
   "metadata": {},
   "outputs": [
    {
     "data": {
      "text/plain": [
       "261.76"
      ]
     },
     "execution_count": 3,
     "metadata": {},
     "output_type": "execute_result"
    }
   ],
   "source": [
    "a3 = 261.761\n",
    "round(a3, 2)"
   ]
  },
  {
   "cell_type": "markdown",
   "metadata": {},
   "source": [
    "## 2. Arredondamento por excesso"
   ]
  },
  {
   "cell_type": "markdown",
   "metadata": {},
   "source": [
    "*Quando o primeiro dígito dos que serão ser eliminados for* **maior ou igual a 5**"
   ]
  },
  {
   "cell_type": "markdown",
   "metadata": {},
   "source": [
    "<table>\n",
    "    <caption>Tabela 2. Exemplos de arredondamento por falta</caption>\n",
    "    <thead>\n",
    "        <tr>\n",
    "            <th></th><th>Número dado</th><th>Arredondar como</th><th>Resultado</th>\n",
    "        </tr>\n",
    "    </thead>\n",
    "    <tbody>\n",
    "        <tr>\n",
    "            <td>a)</td><td>3<em style=\"text-decoration: underline\">2</em>.827</td><td>inteiro</td><td>33</td>\n",
    "        </tr>\n",
    "        <tr>\n",
    "            <td>b)</td><td>16<em style=\"text-decoration: underline\">7</em>63</td><td>décimos</td><td>16.8</td>\n",
    "        </tr>\n",
    "        <tr>\n",
    "            <td>c)</td><td>23.4<em style=\"text-decoration: underline\">2</em>502</td><td>centésimos</td><td>23.43</td>\n",
    "        </tr>\n",
    "    </tbody>\n",
    "</table>"
   ]
  },
  {
   "cell_type": "markdown",
   "metadata": {},
   "source": [
    "## 3. Caso particular"
   ]
  },
  {
   "cell_type": "markdown",
   "metadata": {},
   "source": [
    "Números ___terminados___ em **5** com necessidade de arredontamento no dígito **imediatamente anterior** ao mesmo:"
   ]
  },
  {
   "cell_type": "markdown",
   "metadata": {},
   "source": [
    "1. Não alterar o valor do dígito se ele for **PAR**.\n",
    "2. Aumentar em uma unidade se ele for **ÍMPAR**."
   ]
  },
  {
   "cell_type": "markdown",
   "metadata": {},
   "source": [
    "<table>\n",
    "    <caption>Tabela 2. Exemplos de arredondamento de números terminados em 5</caption>\n",
    "    <thead>\n",
    "        <tr>\n",
    "            <th></th><th>Número dado</th><th>Resultado</th>\n",
    "        </tr>\n",
    "    </thead>\n",
    "    <tbody>\n",
    "        <tr>\n",
    "            <td>a)</td><td>73.3<em style=\"text-decoration: underline\">6</em>5</td><td>73.36</td>\n",
    "        </tr>\n",
    "        <tr>\n",
    "            <td>b)</td><td>41.7<em style=\"text-decoration: underline\">4</em>5</td><td>41.74</td>\n",
    "        </tr>\n",
    "        <tr>\n",
    "            <td>c)</td><td>61.1<em style=\"text-decoration: underline\">3</em>5</td><td>61.14</td>\n",
    "        </tr>\n",
    "    </tbody>\n",
    "</table>"
   ]
  },
  {
   "cell_type": "markdown",
   "metadata": {},
   "source": [
    "**Atenção**: nunca realizar arredondamentos sucessivos."
   ]
  },
  {
   "cell_type": "markdown",
   "metadata": {},
   "source": [
    "# Referências"
   ]
  },
  {
   "cell_type": "markdown",
   "metadata": {},
   "source": [
    "- https://docs.python.org/3/library/functions.html#round"
   ]
  },
  {
   "cell_type": "markdown",
   "metadata": {},
   "source": [
    "- https://www.numpy.org/"
   ]
  },
  {
   "cell_type": "markdown",
   "metadata": {},
   "source": [
    "- https://realpython.com/python-rounding/"
   ]
  },
  {
   "cell_type": "markdown",
   "metadata": {},
   "source": [
    "- https://en.wikipedia.org/wiki/Rounding"
   ]
  },
  {
   "cell_type": "markdown",
   "metadata": {},
   "source": [
    "- https://docs.python.org/3/tutorial/floatingpoint.html"
   ]
  }
 ],
 "metadata": {
  "kernelspec": {
   "display_name": "Python 3",
   "language": "python",
   "name": "python3"
  },
  "language_info": {
   "codemirror_mode": {
    "name": "ipython",
    "version": 3
   },
   "file_extension": ".py",
   "mimetype": "text/x-python",
   "name": "python",
   "nbconvert_exporter": "python",
   "pygments_lexer": "ipython3",
   "version": "3.7.1"
  }
 },
 "nbformat": 4,
 "nbformat_minor": 2
}
