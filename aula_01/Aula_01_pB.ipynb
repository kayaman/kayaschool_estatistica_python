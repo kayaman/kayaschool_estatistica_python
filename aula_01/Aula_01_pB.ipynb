{
 "cells": [
  {
   "cell_type": "markdown",
   "metadata": {},
   "source": [
    "# Agora.. com Python!"
   ]
  },
  {
   "cell_type": "markdown",
   "metadata": {},
   "source": [
    "## Arredondamento de dados"
   ]
  },
  {
   "cell_type": "markdown",
   "metadata": {},
   "source": [
    "Em **Python** temos grandes poderes e liberdade para manipulação de dados numéricos. Grandes poderes exigem grandes responsabilidades! :-)\n",
    "\n",
    "Para realizar arredontamentos numéricos como os que acabamos de discutir, não é necessário utilizar uma biblioteca científica específica como as que estudaremos ao longo do curso. Na versão atual existe uma função *nativa* chamada `round()`.\n",
    "\n",
    "Não por acaso, a função `round()` segue a mesma lógica que vimos na resolução da *Fundação IBGE*. No entanto, antes de utilizá-la em nossos dados de exemplo. Vamos conferir a documentação, lembre-se sempre: **responsabilidade!**"
   ]
  },
  {
   "cell_type": "markdown",
   "metadata": {},
   "source": [
    "[Documentação oficial](https://docs.python.org/3/library/functions.html#round)"
   ]
  },
  {
   "cell_type": "markdown",
   "metadata": {},
   "source": [
    "`round(number[, ndigits])`"
   ]
  },
  {
   "cell_type": "code",
   "execution_count": 22,
   "metadata": {},
   "outputs": [
    {
     "name": "stdout",
     "output_type": "stream",
     "text": [
      "12346\n"
     ]
    }
   ],
   "source": [
    "n = 12345.67890\n",
    "print(round(n))"
   ]
  },
  {
   "cell_type": "code",
   "execution_count": 23,
   "metadata": {},
   "outputs": [
    {
     "name": "stdout",
     "output_type": "stream",
     "text": [
      "12346.0\n"
     ]
    }
   ],
   "source": [
    "n = 12345.67890\n",
    "digits = 0\n",
    "print(round(n, ndigits=digits))"
   ]
  },
  {
   "cell_type": "code",
   "execution_count": 24,
   "metadata": {},
   "outputs": [
    {
     "name": "stdout",
     "output_type": "stream",
     "text": [
      "12346\n"
     ]
    }
   ],
   "source": [
    "n = 12345.67890\n",
    "print(round(n, ndigits=None))"
   ]
  },
  {
   "cell_type": "code",
   "execution_count": 25,
   "metadata": {},
   "outputs": [
    {
     "name": "stdout",
     "output_type": "stream",
     "text": [
      "12345.7\n"
     ]
    }
   ],
   "source": [
    "n = 12345.67890\n",
    "print(round(n, ndigits=1))"
   ]
  },
  {
   "cell_type": "code",
   "execution_count": 26,
   "metadata": {},
   "outputs": [
    {
     "name": "stdout",
     "output_type": "stream",
     "text": [
      "12345.7\n"
     ]
    }
   ],
   "source": [
    "print(round(n, 1))"
   ]
  },
  {
   "cell_type": "markdown",
   "metadata": {},
   "source": [
    "#### Observe que:\n",
    "\n",
    "O número de dígitos após a \"vírgula\" obedece seguinte padrão:\n",
    "\n",
    "- inteiros: `ndigits` => `None` (ou, não especificado)\n",
    "- decimais: `ndigits` => `1`\n",
    "- centésimos: `ndigits` => `2`\n",
    "- e assim por diante..."
   ]
  },
  {
   "cell_type": "markdown",
   "metadata": {},
   "source": [
    "## 1. Arredondamento por falta"
   ]
  },
  {
   "cell_type": "markdown",
   "metadata": {},
   "source": [
    "*Quando o primeiro dígito dos quais serão eliminados for* **menor que 5**"
   ]
  },
  {
   "cell_type": "markdown",
   "metadata": {},
   "source": [
    "<table>\n",
    "    <caption style=\"caption-side: bottom;\">Tabela 1. Exemplos de arredondamento por falta</caption>\n",
    "    <thead>\n",
    "        <tr>\n",
    "            <th></th><th>Número dado</th><th>Arredondar como</th><th>Resultado</th>\n",
    "        </tr>\n",
    "    </thead>\n",
    "    <tbody>\n",
    "        <tr>\n",
    "            <td>a)</td><td>1<b style=\"font-size: 1.1em\">1</b>.372</td><td>inteiro</td><td>11</td>\n",
    "        </tr>\n",
    "        <tr>\n",
    "            <td>b)</td><td>46.<b style=\"font-size: 1.1em\">8</b>17</td><td>décimos</td><td>46.8</td>\n",
    "        </tr>\n",
    "        <tr>\n",
    "            <td>c)</td><td>261.7<b style=\"font-size: 1.1em\">6</b>1</td><td>centésimos</td><td>261.76</td>\n",
    "        </tr>\n",
    "    </tbody>\n",
    "</table>"
   ]
  },
  {
   "cell_type": "code",
   "execution_count": 27,
   "metadata": {},
   "outputs": [
    {
     "data": {
      "text/plain": [
       "11"
      ]
     },
     "execution_count": 27,
     "metadata": {},
     "output_type": "execute_result"
    }
   ],
   "source": [
    "a1 = 11.372\n",
    "round(a1)"
   ]
  },
  {
   "cell_type": "code",
   "execution_count": 28,
   "metadata": {},
   "outputs": [
    {
     "data": {
      "text/plain": [
       "46.8"
      ]
     },
     "execution_count": 28,
     "metadata": {},
     "output_type": "execute_result"
    }
   ],
   "source": [
    "a2 = 46.817\n",
    "round(a2, 1)"
   ]
  },
  {
   "cell_type": "code",
   "execution_count": 29,
   "metadata": {},
   "outputs": [
    {
     "data": {
      "text/plain": [
       "261.76"
      ]
     },
     "execution_count": 29,
     "metadata": {},
     "output_type": "execute_result"
    }
   ],
   "source": [
    "a3 = 261.761\n",
    "round(a3, 2)"
   ]
  },
  {
   "cell_type": "markdown",
   "metadata": {},
   "source": [
    "## 2. Arredondamento por excesso"
   ]
  },
  {
   "cell_type": "markdown",
   "metadata": {},
   "source": [
    "*Quando o primeiro dígito dos que serão ser eliminados for* **maior ou igual a 5**"
   ]
  },
  {
   "cell_type": "markdown",
   "metadata": {},
   "source": [
    "<table>\n",
    "    <caption style=\"caption-side: bottom;\">Tabela 2. Exemplos de arredondamento por excesso</caption>\n",
    "    <thead>\n",
    "        <tr>\n",
    "            <th></th><th>Número dado</th><th>Arredondar como</th><th>Resultado</th>\n",
    "        </tr>\n",
    "    </thead>\n",
    "    <tbody>\n",
    "        <tr>\n",
    "            <td>a)</td><td>32.<b style=\"font-size: 1.1em\">8</b>27</td><td>inteiro</td><td>33</td>\n",
    "        </tr>\n",
    "        <tr>\n",
    "            <td>b)</td><td>16.<b style=\"font-size: 1.1em\">7</b>63</td><td>décimos</td><td>16.8</td>\n",
    "        </tr>\n",
    "        <tr>\n",
    "            <td>c)</td><td>23.4<b style=\"font-size: 1.1em\">2</b>502</td><td>centésimos</td><td>23.43</td>\n",
    "        </tr>\n",
    "    </tbody>\n",
    "</table>"
   ]
  },
  {
   "cell_type": "markdown",
   "metadata": {},
   "source": [
    "### Pratique! "
   ]
  },
  {
   "cell_type": "code",
   "execution_count": 37,
   "metadata": {},
   "outputs": [],
   "source": [
    "a2 = 32.827\n",
    "# ..."
   ]
  },
  {
   "cell_type": "code",
   "execution_count": 38,
   "metadata": {},
   "outputs": [],
   "source": [
    "b2 = 16.763\n",
    "# ..."
   ]
  },
  {
   "cell_type": "code",
   "execution_count": 36,
   "metadata": {},
   "outputs": [],
   "source": [
    "c2 = 23.42502\n",
    "# ..."
   ]
  },
  {
   "cell_type": "markdown",
   "metadata": {},
   "source": [
    "#### Experimente utilizar `ndigits` igual a zero, `None` e implícito (posicional):"
   ]
  },
  {
   "cell_type": "code",
   "execution_count": null,
   "metadata": {},
   "outputs": [],
   "source": [
    "# round(a2)"
   ]
  },
  {
   "cell_type": "code",
   "execution_count": null,
   "metadata": {},
   "outputs": [],
   "source": [
    "# round(a2, ndigits=0)"
   ]
  },
  {
   "cell_type": "code",
   "execution_count": null,
   "metadata": {},
   "outputs": [],
   "source": [
    "# round(a2, ndigits=None)"
   ]
  },
  {
   "cell_type": "code",
   "execution_count": null,
   "metadata": {},
   "outputs": [],
   "source": [
    "# round(a2, None)"
   ]
  },
  {
   "cell_type": "code",
   "execution_count": 21,
   "metadata": {},
   "outputs": [],
   "source": [
    "# round(a2, 1)"
   ]
  },
  {
   "cell_type": "markdown",
   "metadata": {},
   "source": [
    "## 3. Caso particular"
   ]
  },
  {
   "cell_type": "markdown",
   "metadata": {},
   "source": [
    "Números ___terminados___ em **5** com necessidade de arredontamento no dígito **imediatamente anterior** ao mesmo:"
   ]
  },
  {
   "cell_type": "markdown",
   "metadata": {},
   "source": [
    "1. Não alterar o valor do dígito se ele for **PAR**.\n",
    "2. Aumentar em uma unidade se ele for **ÍMPAR**."
   ]
  },
  {
   "cell_type": "markdown",
   "metadata": {},
   "source": [
    "<table>\n",
    "    <caption>Tabela 2. Exemplos de arredondamento de números terminados em 5</caption>\n",
    "    <thead>\n",
    "        <tr>\n",
    "            <th></th><th>Número dado</th><th>Resultado</th>\n",
    "        </tr>\n",
    "    </thead>\n",
    "    <tbody>\n",
    "        <tr>\n",
    "            <td>a)</td><td>73.3<em style=\"text-decoration: underline\">6</em>5</td><td>73.36</td>\n",
    "        </tr>\n",
    "        <tr>\n",
    "            <td>b)</td><td>41.7<em style=\"text-decoration: underline\">4</em>5</td><td>41.74</td>\n",
    "        </tr>\n",
    "        <tr>\n",
    "            <td>c)</td><td>61.1<em style=\"text-decoration: underline\">3</em>5</td><td>61.14</td>\n",
    "        </tr>\n",
    "    </tbody>\n",
    "</table>"
   ]
  },
  {
   "cell_type": "code",
   "execution_count": null,
   "metadata": {},
   "outputs": [],
   "source": [
    "### Pratique! "
   ]
  },
  {
   "cell_type": "code",
   "execution_count": null,
   "metadata": {},
   "outputs": [],
   "source": [
    "a3\n"
   ]
  },
  {
   "cell_type": "code",
   "execution_count": null,
   "metadata": {},
   "outputs": [],
   "source": [
    "b3\n"
   ]
  },
  {
   "cell_type": "code",
   "execution_count": null,
   "metadata": {},
   "outputs": [],
   "source": [
    "c3\n"
   ]
  },
  {
   "cell_type": "markdown",
   "metadata": {},
   "source": [
    "### Extra"
   ]
  },
  {
   "cell_type": "markdown",
   "metadata": {},
   "source": [
    "Reproduza o erro causado por arredondamentos sucessivos com código! "
   ]
  },
  {
   "cell_type": "markdown",
   "metadata": {},
   "source": [
    "**Atenção**: nunca realizar arredondamentos sucessivos."
   ]
  },
  {
   "cell_type": "markdown",
   "metadata": {},
   "source": [
    "# Referências"
   ]
  },
  {
   "cell_type": "markdown",
   "metadata": {},
   "source": [
    "- https://docs.python.org/3/library/functions.html#round"
   ]
  },
  {
   "cell_type": "markdown",
   "metadata": {},
   "source": [
    "- https://www.numpy.org/"
   ]
  },
  {
   "cell_type": "markdown",
   "metadata": {},
   "source": [
    "- https://realpython.com/python-rounding/"
   ]
  },
  {
   "cell_type": "markdown",
   "metadata": {},
   "source": [
    "- https://en.wikipedia.org/wiki/Rounding"
   ]
  },
  {
   "cell_type": "markdown",
   "metadata": {},
   "source": [
    "- https://docs.python.org/3/tutorial/floatingpoint.html"
   ]
  }
 ],
 "metadata": {
  "kernelspec": {
   "display_name": "Python 3",
   "language": "python",
   "name": "python3"
  },
  "language_info": {
   "codemirror_mode": {
    "name": "ipython",
    "version": 3
   },
   "file_extension": ".py",
   "mimetype": "text/x-python",
   "name": "python",
   "nbconvert_exporter": "python",
   "pygments_lexer": "ipython3",
   "version": "3.7.1"
  }
 },
 "nbformat": 4,
 "nbformat_minor": 2
}
